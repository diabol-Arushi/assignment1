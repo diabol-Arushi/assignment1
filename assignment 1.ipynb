{
 "cells": [
  {
   "cell_type": "code",
   "execution_count": 74,
   "id": "7fa5f56d",
   "metadata": {},
   "outputs": [
    {
     "name": "stdout",
     "output_type": "stream",
     "text": [
      "input x\n",
      "6\n",
      "input y\n",
      "8\n",
      "input z\n",
      "9\n",
      "7.666666666666667\n"
     ]
    }
   ],
   "source": [
    "print('input x')\n",
    "x = float(input())\n",
    "print('input y')\n",
    "y = float(input())\n",
    "print('input z')\n",
    "z = float(input())\n",
    "print((x + y + z)/3)"
   ]
  },
  {
   "cell_type": "code",
   "execution_count": 20,
   "id": "1349bc9e",
   "metadata": {},
   "outputs": [
    {
     "name": "stdout",
     "output_type": "stream",
     "text": [
      "enter gross income\n",
      "20000\n",
      "enter no. of dependents\n",
      "2\n",
      "800.0\n"
     ]
    }
   ],
   "source": [
    "print('enter gross income')\n",
    "a = float(input())\n",
    "print('enter no. of dependents')\n",
    "b = float(input())\n",
    "c = 10000 #standard deduction\n",
    "d = 3000 #dependent deduction\n",
    "e = a-c-(d*b) #taxable income\n",
    "print(e*(20/100))\n"
   ]
  },
  {
   "cell_type": "code",
   "execution_count": 24,
   "id": "ab4a9e06",
   "metadata": {},
   "outputs": [
    {
     "name": "stdout",
     "output_type": "stream",
     "text": [
      "enter seconds\n",
      "124\n",
      "minutes= 2.0\n",
      "seconds= 4.0\n"
     ]
    }
   ],
   "source": [
    "print('enter seconds')\n",
    "x = float(input())\n",
    "a = x//60\n",
    "print('minutes=',a) \n",
    "b = x%60\n",
    "print('seconds=',b) "
   ]
  },
  {
   "cell_type": "code",
   "execution_count": 31,
   "id": "39f3157c",
   "metadata": {},
   "outputs": [
    {
     "name": "stdout",
     "output_type": "stream",
     "text": [
      "75\n"
     ]
    }
   ],
   "source": [
    "a = 25\n",
    "b = int('25')\n",
    "c =  int(25.0)\n",
    "e = str(a + b + c)\n",
    "print(e)"
   ]
  },
  {
   "cell_type": "code",
   "execution_count": 81,
   "id": "60a4a541",
   "metadata": {},
   "outputs": [
    {
     "name": "stdout",
     "output_type": "stream",
     "text": [
      "sin 0 0.0\n",
      "cos 0 1.0\n",
      "sin 15 0.2588\n",
      "cos 15 0.9659\n",
      "sin 30 0.5\n",
      "cos 30 0.866\n",
      "sin 45 0.7071\n",
      "cos 45 0.7071\n",
      "sin 60 0.866\n",
      "cos 60 0.5\n",
      "sin 75 0.9659\n",
      "cos 75 0.2588\n",
      "sin 90 1.0\n",
      "cos 90 0.0\n",
      "sin 105 0.9659\n",
      "cos 105 -0.2588\n",
      "sin 120 0.866\n",
      "cos 120 -0.5\n",
      "sin 135 0.7071\n",
      "cos 135 -0.7071\n",
      "sin 150 0.5\n",
      "cos 150 -0.866\n",
      "sin 165 0.2588\n",
      "cos 165 -0.9659\n",
      "sin 180 0.0\n",
      "cos 180 -1.0\n",
      "sin 195 -0.2588\n",
      "cos 195 -0.9659\n",
      "sin 210 -0.5\n",
      "cos 210 -0.866\n",
      "sin 225 -0.7071\n",
      "cos 225 -0.7071\n",
      "sin 240 -0.866\n",
      "cos 240 -0.5\n",
      "sin 255 -0.9659\n",
      "cos 255 -0.2588\n",
      "sin 270 -1.0\n",
      "cos 270 -0.0\n",
      "sin 285 -0.9659\n",
      "cos 285 0.2588\n",
      "sin 300 -0.866\n",
      "cos 300 0.5\n",
      "sin 315 -0.7071\n",
      "cos 315 0.7071\n",
      "sin 330 -0.5\n",
      "cos 330 0.866\n",
      "sin 345 -0.2588\n",
      "cos 345 0.9659\n"
     ]
    }
   ],
   "source": [
    "for x in range(0,24):\n",
    " import math\n",
    " w = (math.pi/180)*15\n",
    " y = round(math.sin(w*x),4)\n",
    " print('sin',x*15,y)\n",
    " l = round(math.cos(w*x),4)\n",
    " print('cos',x*15,l)\n",
    "\n",
    " \n"
   ]
  },
  {
   "cell_type": "code",
   "execution_count": null,
   "id": "df08cce6",
   "metadata": {},
   "outputs": [],
   "source": []
  },
  {
   "cell_type": "code",
   "execution_count": null,
   "id": "8b34a71a",
   "metadata": {},
   "outputs": [],
   "source": []
  }
 ],
 "metadata": {
  "kernelspec": {
   "display_name": "Python 3 (ipykernel)",
   "language": "python",
   "name": "python3"
  },
  "language_info": {
   "codemirror_mode": {
    "name": "ipython",
    "version": 3
   },
   "file_extension": ".py",
   "mimetype": "text/x-python",
   "name": "python",
   "nbconvert_exporter": "python",
   "pygments_lexer": "ipython3",
   "version": "3.9.13"
  }
 },
 "nbformat": 4,
 "nbformat_minor": 5
}
